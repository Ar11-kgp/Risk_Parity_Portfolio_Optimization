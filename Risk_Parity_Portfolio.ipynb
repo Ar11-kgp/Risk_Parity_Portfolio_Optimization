{
  "nbformat": 4,
  "nbformat_minor": 0,
  "metadata": {
    "colab": {
      "provenance": [],
      "include_colab_link": true
    },
    "kernelspec": {
      "name": "python3",
      "display_name": "Python 3"
    },
    "language_info": {
      "name": "python"
    }
  },
  "cells": [
    {
      "cell_type": "markdown",
      "metadata": {
        "id": "view-in-github",
        "colab_type": "text"
      },
      "source": [
        "<a href=\"https://colab.research.google.com/github/Ar11-kgp/Risk_Parity_Portfolio_Optimization/blob/main/Risk_Parity_Portfolio.ipynb\" target=\"_parent\"><img src=\"https://colab.research.google.com/assets/colab-badge.svg\" alt=\"Open In Colab\"/></a>"
      ]
    },
    {
      "cell_type": "markdown",
      "source": [
        "#Implementation of the Risk Parity Portfolio\n",
        "\n",
        "Author:\n",
        "*   Name: Arya Rajendra\n",
        "*   Year of study: 4th Year\n",
        "*   College: IIT Kharagpur\n",
        "*   Under the guidence of: Kshitij Anand"
      ],
      "metadata": {
        "id": "rLuj_wwWA9zo"
      }
    },
    {
      "cell_type": "code",
      "execution_count": null,
      "metadata": {
        "id": "dGANrdFPdqRM"
      },
      "outputs": [],
      "source": [
        "import yfinance as yf\n",
        "from scipy.optimize import minimize # Import the minimize function"
      ]
    },
    {
      "cell_type": "markdown",
      "source": [
        "##Downloading the 5 months data"
      ],
      "metadata": {
        "id": "e0tdB4MEA3AX"
      }
    },
    {
      "cell_type": "code",
      "source": [
        "import pandas as pd\n",
        "import numpy as np\n",
        "\n",
        "# List of six diversified stocks (e.g., tech, healthcare, finance, consumer goods, industrials, energy)\n",
        "stocks = ['AAPL', 'JNJ', 'JPM', 'PG', 'BA', 'XOM']\n",
        "\n",
        "# Download historical data for the past 5 months\n",
        "data = yf.download(stocks, start='2024-02-01', end='2024-07-01')['Adj Close']\n",
        "\n",
        "# Calculate daily returns\n",
        "returns = data.pct_change().dropna()\n",
        "returns"
      ],
      "metadata": {
        "colab": {
          "base_uri": "https://localhost:8080/",
          "height": 472
        },
        "id": "KnWaFeg_d6NC",
        "outputId": "389a9d48-9548-4b77-b691-03fa09664f04"
      },
      "execution_count": null,
      "outputs": [
        {
          "output_type": "stream",
          "name": "stderr",
          "text": [
            "[*********************100%%**********************]  6 of 6 completed\n"
          ]
        },
        {
          "output_type": "execute_result",
          "data": {
            "text/plain": [
              "Ticker          AAPL        BA       JNJ       JPM        PG       XOM\n",
              "Date                                                                  \n",
              "2024-02-02 -0.005405 -0.002049 -0.011051  0.005756 -0.006848 -0.004102\n",
              "2024-02-05  0.009847 -0.013134 -0.005172 -0.001316  0.000759 -0.004119\n",
              "2024-02-06  0.008632  0.009437  0.014506  0.003438  0.004741  0.006893\n",
              "2024-02-07  0.000581  0.016013 -0.000506  0.001885  0.001006 -0.000293\n",
              "2024-02-08 -0.005755 -0.012741 -0.010001 -0.003591 -0.003017  0.017120\n",
              "...              ...       ...       ...       ...       ...       ...\n",
              "2024-06-24  0.003133  0.014386  0.002487  0.013143  0.001129  0.029704\n",
              "2024-06-25  0.004468 -0.022334 -0.012943 -0.004073 -0.009498  0.002806\n",
              "2024-06-26  0.019993  0.019417 -0.002514 -0.003231  0.003596  0.000350\n",
              "2024-06-27  0.003986  0.022465 -0.006947  0.008813 -0.004957  0.004283\n",
              "2024-06-28 -0.016254 -0.002740  0.002469  0.015514 -0.010203  0.001915\n",
              "\n",
              "[102 rows x 6 columns]"
            ],
            "text/html": [
              "\n",
              "  <div id=\"df-e77170a6-1e10-4bbd-941f-6088d2565186\" class=\"colab-df-container\">\n",
              "    <div>\n",
              "<style scoped>\n",
              "    .dataframe tbody tr th:only-of-type {\n",
              "        vertical-align: middle;\n",
              "    }\n",
              "\n",
              "    .dataframe tbody tr th {\n",
              "        vertical-align: top;\n",
              "    }\n",
              "\n",
              "    .dataframe thead th {\n",
              "        text-align: right;\n",
              "    }\n",
              "</style>\n",
              "<table border=\"1\" class=\"dataframe\">\n",
              "  <thead>\n",
              "    <tr style=\"text-align: right;\">\n",
              "      <th>Ticker</th>\n",
              "      <th>AAPL</th>\n",
              "      <th>BA</th>\n",
              "      <th>JNJ</th>\n",
              "      <th>JPM</th>\n",
              "      <th>PG</th>\n",
              "      <th>XOM</th>\n",
              "    </tr>\n",
              "    <tr>\n",
              "      <th>Date</th>\n",
              "      <th></th>\n",
              "      <th></th>\n",
              "      <th></th>\n",
              "      <th></th>\n",
              "      <th></th>\n",
              "      <th></th>\n",
              "    </tr>\n",
              "  </thead>\n",
              "  <tbody>\n",
              "    <tr>\n",
              "      <th>2024-02-02</th>\n",
              "      <td>-0.005405</td>\n",
              "      <td>-0.002049</td>\n",
              "      <td>-0.011051</td>\n",
              "      <td>0.005756</td>\n",
              "      <td>-0.006848</td>\n",
              "      <td>-0.004102</td>\n",
              "    </tr>\n",
              "    <tr>\n",
              "      <th>2024-02-05</th>\n",
              "      <td>0.009847</td>\n",
              "      <td>-0.013134</td>\n",
              "      <td>-0.005172</td>\n",
              "      <td>-0.001316</td>\n",
              "      <td>0.000759</td>\n",
              "      <td>-0.004119</td>\n",
              "    </tr>\n",
              "    <tr>\n",
              "      <th>2024-02-06</th>\n",
              "      <td>0.008632</td>\n",
              "      <td>0.009437</td>\n",
              "      <td>0.014506</td>\n",
              "      <td>0.003438</td>\n",
              "      <td>0.004741</td>\n",
              "      <td>0.006893</td>\n",
              "    </tr>\n",
              "    <tr>\n",
              "      <th>2024-02-07</th>\n",
              "      <td>0.000581</td>\n",
              "      <td>0.016013</td>\n",
              "      <td>-0.000506</td>\n",
              "      <td>0.001885</td>\n",
              "      <td>0.001006</td>\n",
              "      <td>-0.000293</td>\n",
              "    </tr>\n",
              "    <tr>\n",
              "      <th>2024-02-08</th>\n",
              "      <td>-0.005755</td>\n",
              "      <td>-0.012741</td>\n",
              "      <td>-0.010001</td>\n",
              "      <td>-0.003591</td>\n",
              "      <td>-0.003017</td>\n",
              "      <td>0.017120</td>\n",
              "    </tr>\n",
              "    <tr>\n",
              "      <th>...</th>\n",
              "      <td>...</td>\n",
              "      <td>...</td>\n",
              "      <td>...</td>\n",
              "      <td>...</td>\n",
              "      <td>...</td>\n",
              "      <td>...</td>\n",
              "    </tr>\n",
              "    <tr>\n",
              "      <th>2024-06-24</th>\n",
              "      <td>0.003133</td>\n",
              "      <td>0.014386</td>\n",
              "      <td>0.002487</td>\n",
              "      <td>0.013143</td>\n",
              "      <td>0.001129</td>\n",
              "      <td>0.029704</td>\n",
              "    </tr>\n",
              "    <tr>\n",
              "      <th>2024-06-25</th>\n",
              "      <td>0.004468</td>\n",
              "      <td>-0.022334</td>\n",
              "      <td>-0.012943</td>\n",
              "      <td>-0.004073</td>\n",
              "      <td>-0.009498</td>\n",
              "      <td>0.002806</td>\n",
              "    </tr>\n",
              "    <tr>\n",
              "      <th>2024-06-26</th>\n",
              "      <td>0.019993</td>\n",
              "      <td>0.019417</td>\n",
              "      <td>-0.002514</td>\n",
              "      <td>-0.003231</td>\n",
              "      <td>0.003596</td>\n",
              "      <td>0.000350</td>\n",
              "    </tr>\n",
              "    <tr>\n",
              "      <th>2024-06-27</th>\n",
              "      <td>0.003986</td>\n",
              "      <td>0.022465</td>\n",
              "      <td>-0.006947</td>\n",
              "      <td>0.008813</td>\n",
              "      <td>-0.004957</td>\n",
              "      <td>0.004283</td>\n",
              "    </tr>\n",
              "    <tr>\n",
              "      <th>2024-06-28</th>\n",
              "      <td>-0.016254</td>\n",
              "      <td>-0.002740</td>\n",
              "      <td>0.002469</td>\n",
              "      <td>0.015514</td>\n",
              "      <td>-0.010203</td>\n",
              "      <td>0.001915</td>\n",
              "    </tr>\n",
              "  </tbody>\n",
              "</table>\n",
              "<p>102 rows × 6 columns</p>\n",
              "</div>\n",
              "    <div class=\"colab-df-buttons\">\n",
              "\n",
              "  <div class=\"colab-df-container\">\n",
              "    <button class=\"colab-df-convert\" onclick=\"convertToInteractive('df-e77170a6-1e10-4bbd-941f-6088d2565186')\"\n",
              "            title=\"Convert this dataframe to an interactive table.\"\n",
              "            style=\"display:none;\">\n",
              "\n",
              "  <svg xmlns=\"http://www.w3.org/2000/svg\" height=\"24px\" viewBox=\"0 -960 960 960\">\n",
              "    <path d=\"M120-120v-720h720v720H120Zm60-500h600v-160H180v160Zm220 220h160v-160H400v160Zm0 220h160v-160H400v160ZM180-400h160v-160H180v160Zm440 0h160v-160H620v160ZM180-180h160v-160H180v160Zm440 0h160v-160H620v160Z\"/>\n",
              "  </svg>\n",
              "    </button>\n",
              "\n",
              "  <style>\n",
              "    .colab-df-container {\n",
              "      display:flex;\n",
              "      gap: 12px;\n",
              "    }\n",
              "\n",
              "    .colab-df-convert {\n",
              "      background-color: #E8F0FE;\n",
              "      border: none;\n",
              "      border-radius: 50%;\n",
              "      cursor: pointer;\n",
              "      display: none;\n",
              "      fill: #1967D2;\n",
              "      height: 32px;\n",
              "      padding: 0 0 0 0;\n",
              "      width: 32px;\n",
              "    }\n",
              "\n",
              "    .colab-df-convert:hover {\n",
              "      background-color: #E2EBFA;\n",
              "      box-shadow: 0px 1px 2px rgba(60, 64, 67, 0.3), 0px 1px 3px 1px rgba(60, 64, 67, 0.15);\n",
              "      fill: #174EA6;\n",
              "    }\n",
              "\n",
              "    .colab-df-buttons div {\n",
              "      margin-bottom: 4px;\n",
              "    }\n",
              "\n",
              "    [theme=dark] .colab-df-convert {\n",
              "      background-color: #3B4455;\n",
              "      fill: #D2E3FC;\n",
              "    }\n",
              "\n",
              "    [theme=dark] .colab-df-convert:hover {\n",
              "      background-color: #434B5C;\n",
              "      box-shadow: 0px 1px 3px 1px rgba(0, 0, 0, 0.15);\n",
              "      filter: drop-shadow(0px 1px 2px rgba(0, 0, 0, 0.3));\n",
              "      fill: #FFFFFF;\n",
              "    }\n",
              "  </style>\n",
              "\n",
              "    <script>\n",
              "      const buttonEl =\n",
              "        document.querySelector('#df-e77170a6-1e10-4bbd-941f-6088d2565186 button.colab-df-convert');\n",
              "      buttonEl.style.display =\n",
              "        google.colab.kernel.accessAllowed ? 'block' : 'none';\n",
              "\n",
              "      async function convertToInteractive(key) {\n",
              "        const element = document.querySelector('#df-e77170a6-1e10-4bbd-941f-6088d2565186');\n",
              "        const dataTable =\n",
              "          await google.colab.kernel.invokeFunction('convertToInteractive',\n",
              "                                                    [key], {});\n",
              "        if (!dataTable) return;\n",
              "\n",
              "        const docLinkHtml = 'Like what you see? Visit the ' +\n",
              "          '<a target=\"_blank\" href=https://colab.research.google.com/notebooks/data_table.ipynb>data table notebook</a>'\n",
              "          + ' to learn more about interactive tables.';\n",
              "        element.innerHTML = '';\n",
              "        dataTable['output_type'] = 'display_data';\n",
              "        await google.colab.output.renderOutput(dataTable, element);\n",
              "        const docLink = document.createElement('div');\n",
              "        docLink.innerHTML = docLinkHtml;\n",
              "        element.appendChild(docLink);\n",
              "      }\n",
              "    </script>\n",
              "  </div>\n",
              "\n",
              "\n",
              "<div id=\"df-d62dd53e-c070-4c64-9a24-01ab3d8780f3\">\n",
              "  <button class=\"colab-df-quickchart\" onclick=\"quickchart('df-d62dd53e-c070-4c64-9a24-01ab3d8780f3')\"\n",
              "            title=\"Suggest charts\"\n",
              "            style=\"display:none;\">\n",
              "\n",
              "<svg xmlns=\"http://www.w3.org/2000/svg\" height=\"24px\"viewBox=\"0 0 24 24\"\n",
              "     width=\"24px\">\n",
              "    <g>\n",
              "        <path d=\"M19 3H5c-1.1 0-2 .9-2 2v14c0 1.1.9 2 2 2h14c1.1 0 2-.9 2-2V5c0-1.1-.9-2-2-2zM9 17H7v-7h2v7zm4 0h-2V7h2v10zm4 0h-2v-4h2v4z\"/>\n",
              "    </g>\n",
              "</svg>\n",
              "  </button>\n",
              "\n",
              "<style>\n",
              "  .colab-df-quickchart {\n",
              "      --bg-color: #E8F0FE;\n",
              "      --fill-color: #1967D2;\n",
              "      --hover-bg-color: #E2EBFA;\n",
              "      --hover-fill-color: #174EA6;\n",
              "      --disabled-fill-color: #AAA;\n",
              "      --disabled-bg-color: #DDD;\n",
              "  }\n",
              "\n",
              "  [theme=dark] .colab-df-quickchart {\n",
              "      --bg-color: #3B4455;\n",
              "      --fill-color: #D2E3FC;\n",
              "      --hover-bg-color: #434B5C;\n",
              "      --hover-fill-color: #FFFFFF;\n",
              "      --disabled-bg-color: #3B4455;\n",
              "      --disabled-fill-color: #666;\n",
              "  }\n",
              "\n",
              "  .colab-df-quickchart {\n",
              "    background-color: var(--bg-color);\n",
              "    border: none;\n",
              "    border-radius: 50%;\n",
              "    cursor: pointer;\n",
              "    display: none;\n",
              "    fill: var(--fill-color);\n",
              "    height: 32px;\n",
              "    padding: 0;\n",
              "    width: 32px;\n",
              "  }\n",
              "\n",
              "  .colab-df-quickchart:hover {\n",
              "    background-color: var(--hover-bg-color);\n",
              "    box-shadow: 0 1px 2px rgba(60, 64, 67, 0.3), 0 1px 3px 1px rgba(60, 64, 67, 0.15);\n",
              "    fill: var(--button-hover-fill-color);\n",
              "  }\n",
              "\n",
              "  .colab-df-quickchart-complete:disabled,\n",
              "  .colab-df-quickchart-complete:disabled:hover {\n",
              "    background-color: var(--disabled-bg-color);\n",
              "    fill: var(--disabled-fill-color);\n",
              "    box-shadow: none;\n",
              "  }\n",
              "\n",
              "  .colab-df-spinner {\n",
              "    border: 2px solid var(--fill-color);\n",
              "    border-color: transparent;\n",
              "    border-bottom-color: var(--fill-color);\n",
              "    animation:\n",
              "      spin 1s steps(1) infinite;\n",
              "  }\n",
              "\n",
              "  @keyframes spin {\n",
              "    0% {\n",
              "      border-color: transparent;\n",
              "      border-bottom-color: var(--fill-color);\n",
              "      border-left-color: var(--fill-color);\n",
              "    }\n",
              "    20% {\n",
              "      border-color: transparent;\n",
              "      border-left-color: var(--fill-color);\n",
              "      border-top-color: var(--fill-color);\n",
              "    }\n",
              "    30% {\n",
              "      border-color: transparent;\n",
              "      border-left-color: var(--fill-color);\n",
              "      border-top-color: var(--fill-color);\n",
              "      border-right-color: var(--fill-color);\n",
              "    }\n",
              "    40% {\n",
              "      border-color: transparent;\n",
              "      border-right-color: var(--fill-color);\n",
              "      border-top-color: var(--fill-color);\n",
              "    }\n",
              "    60% {\n",
              "      border-color: transparent;\n",
              "      border-right-color: var(--fill-color);\n",
              "    }\n",
              "    80% {\n",
              "      border-color: transparent;\n",
              "      border-right-color: var(--fill-color);\n",
              "      border-bottom-color: var(--fill-color);\n",
              "    }\n",
              "    90% {\n",
              "      border-color: transparent;\n",
              "      border-bottom-color: var(--fill-color);\n",
              "    }\n",
              "  }\n",
              "</style>\n",
              "\n",
              "  <script>\n",
              "    async function quickchart(key) {\n",
              "      const quickchartButtonEl =\n",
              "        document.querySelector('#' + key + ' button');\n",
              "      quickchartButtonEl.disabled = true;  // To prevent multiple clicks.\n",
              "      quickchartButtonEl.classList.add('colab-df-spinner');\n",
              "      try {\n",
              "        const charts = await google.colab.kernel.invokeFunction(\n",
              "            'suggestCharts', [key], {});\n",
              "      } catch (error) {\n",
              "        console.error('Error during call to suggestCharts:', error);\n",
              "      }\n",
              "      quickchartButtonEl.classList.remove('colab-df-spinner');\n",
              "      quickchartButtonEl.classList.add('colab-df-quickchart-complete');\n",
              "    }\n",
              "    (() => {\n",
              "      let quickchartButtonEl =\n",
              "        document.querySelector('#df-d62dd53e-c070-4c64-9a24-01ab3d8780f3 button');\n",
              "      quickchartButtonEl.style.display =\n",
              "        google.colab.kernel.accessAllowed ? 'block' : 'none';\n",
              "    })();\n",
              "  </script>\n",
              "</div>\n",
              "\n",
              "  <div id=\"id_d2b40047-d934-4191-9c16-25a7b156da21\">\n",
              "    <style>\n",
              "      .colab-df-generate {\n",
              "        background-color: #E8F0FE;\n",
              "        border: none;\n",
              "        border-radius: 50%;\n",
              "        cursor: pointer;\n",
              "        display: none;\n",
              "        fill: #1967D2;\n",
              "        height: 32px;\n",
              "        padding: 0 0 0 0;\n",
              "        width: 32px;\n",
              "      }\n",
              "\n",
              "      .colab-df-generate:hover {\n",
              "        background-color: #E2EBFA;\n",
              "        box-shadow: 0px 1px 2px rgba(60, 64, 67, 0.3), 0px 1px 3px 1px rgba(60, 64, 67, 0.15);\n",
              "        fill: #174EA6;\n",
              "      }\n",
              "\n",
              "      [theme=dark] .colab-df-generate {\n",
              "        background-color: #3B4455;\n",
              "        fill: #D2E3FC;\n",
              "      }\n",
              "\n",
              "      [theme=dark] .colab-df-generate:hover {\n",
              "        background-color: #434B5C;\n",
              "        box-shadow: 0px 1px 3px 1px rgba(0, 0, 0, 0.15);\n",
              "        filter: drop-shadow(0px 1px 2px rgba(0, 0, 0, 0.3));\n",
              "        fill: #FFFFFF;\n",
              "      }\n",
              "    </style>\n",
              "    <button class=\"colab-df-generate\" onclick=\"generateWithVariable('returns')\"\n",
              "            title=\"Generate code using this dataframe.\"\n",
              "            style=\"display:none;\">\n",
              "\n",
              "  <svg xmlns=\"http://www.w3.org/2000/svg\" height=\"24px\"viewBox=\"0 0 24 24\"\n",
              "       width=\"24px\">\n",
              "    <path d=\"M7,19H8.4L18.45,9,17,7.55,7,17.6ZM5,21V16.75L18.45,3.32a2,2,0,0,1,2.83,0l1.4,1.43a1.91,1.91,0,0,1,.58,1.4,1.91,1.91,0,0,1-.58,1.4L9.25,21ZM18.45,9,17,7.55Zm-12,3A5.31,5.31,0,0,0,4.9,8.1,5.31,5.31,0,0,0,1,6.5,5.31,5.31,0,0,0,4.9,4.9,5.31,5.31,0,0,0,6.5,1,5.31,5.31,0,0,0,8.1,4.9,5.31,5.31,0,0,0,12,6.5,5.46,5.46,0,0,0,6.5,12Z\"/>\n",
              "  </svg>\n",
              "    </button>\n",
              "    <script>\n",
              "      (() => {\n",
              "      const buttonEl =\n",
              "        document.querySelector('#id_d2b40047-d934-4191-9c16-25a7b156da21 button.colab-df-generate');\n",
              "      buttonEl.style.display =\n",
              "        google.colab.kernel.accessAllowed ? 'block' : 'none';\n",
              "\n",
              "      buttonEl.onclick = () => {\n",
              "        google.colab.notebook.generateWithVariable('returns');\n",
              "      }\n",
              "      })();\n",
              "    </script>\n",
              "  </div>\n",
              "\n",
              "    </div>\n",
              "  </div>\n"
            ],
            "application/vnd.google.colaboratory.intrinsic+json": {
              "type": "dataframe",
              "variable_name": "returns",
              "summary": "{\n  \"name\": \"returns\",\n  \"rows\": 102,\n  \"fields\": [\n    {\n      \"column\": \"Date\",\n      \"properties\": {\n        \"dtype\": \"date\",\n        \"min\": \"2024-02-02 00:00:00\",\n        \"max\": \"2024-06-28 00:00:00\",\n        \"num_unique_values\": 102,\n        \"samples\": [\n          \"2024-03-18 00:00:00\",\n          \"2024-05-09 00:00:00\",\n          \"2024-05-02 00:00:00\"\n        ],\n        \"semantic_type\": \"\",\n        \"description\": \"\"\n      }\n    },\n    {\n      \"column\": \"AAPL\",\n      \"properties\": {\n        \"dtype\": \"number\",\n        \"std\": 0.015672953787264833,\n        \"min\": -0.040857464135712784,\n        \"max\": 0.07264912559045644,\n        \"num_unique_values\": 102,\n        \"samples\": [\n          0.006372382706582691,\n          0.010014275290102459,\n          0.02203188096694153\n        ],\n        \"semantic_type\": \"\",\n        \"description\": \"\"\n      }\n    },\n    {\n      \"column\": \"BA\",\n      \"properties\": {\n        \"dtype\": \"number\",\n        \"std\": 0.01810774205388811,\n        \"min\": -0.07553141592028734,\n        \"max\": 0.04310042634012534,\n        \"num_unique_values\": 102,\n        \"samples\": [\n          -0.014737316930894306,\n          0.004990262633913112,\n          0.04310042634012534\n        ],\n        \"semantic_type\": \"\",\n        \"description\": \"\"\n      }\n    },\n    {\n      \"column\": \"JNJ\",\n      \"properties\": {\n        \"dtype\": \"number\",\n        \"std\": 0.009745412450571443,\n        \"min\": -0.02475572020689132,\n        \"max\": 0.04557713422966514,\n        \"num_unique_values\": 102,\n        \"samples\": [\n          -0.008977125081405801,\n          0.006042353479640772,\n          -0.008334413548812036\n        ],\n        \"semantic_type\": \"\",\n        \"description\": \"\"\n      }\n    },\n    {\n      \"column\": \"JPM\",\n      \"properties\": {\n        \"dtype\": \"number\",\n        \"std\": 0.01244416638291522,\n        \"min\": -0.06467787621096821,\n        \"max\": 0.025103481833443242,\n        \"num_unique_values\": 102,\n        \"samples\": [\n          0.01240149806392088,\n          0.009455700801657141,\n          -0.0010424289786779006\n        ],\n        \"semantic_type\": \"\",\n        \"description\": \"\"\n      }\n    },\n    {\n      \"column\": \"PG\",\n      \"properties\": {\n        \"dtype\": \"number\",\n        \"std\": 0.006849403633291565,\n        \"min\": -0.027526963294226103,\n        \"max\": 0.015176387414615577,\n        \"num_unique_values\": 102,\n        \"samples\": [\n          -0.0010534482730728545,\n          0.005876209601232363,\n          0.0026927934996434644\n        ],\n        \"semantic_type\": \"\",\n        \"description\": \"\"\n      }\n    },\n    {\n      \"column\": \"XOM\",\n      \"properties\": {\n        \"dtype\": \"number\",\n        \"std\": 0.011127836887538921,\n        \"min\": -0.027775502705701616,\n        \"max\": 0.02970387190387358,\n        \"num_unique_values\": 101,\n        \"samples\": [\n          0.0039940053692195665,\n          0.00016529155657551975,\n          0.01971591552094698\n        ],\n        \"semantic_type\": \"\",\n        \"description\": \"\"\n      }\n    }\n  ]\n}"
            }
          },
          "metadata": {},
          "execution_count": 3
        }
      ]
    },
    {
      "cell_type": "code",
      "source": [
        "# The variance-covariance matrix\n",
        "C = returns.cov()\n",
        "print(\"Covariance Matrix:\")\n",
        "print(C)"
      ],
      "metadata": {
        "colab": {
          "base_uri": "https://localhost:8080/"
        },
        "id": "Aypu-JsI0AJv",
        "outputId": "d7a10941-5160-493f-84a8-06f1480720d2"
      },
      "execution_count": null,
      "outputs": [
        {
          "output_type": "stream",
          "name": "stdout",
          "text": [
            "Covariance Matrix:\n",
            "Ticker          AAPL        BA           JNJ       JPM        PG       XOM\n",
            "Ticker                                                                    \n",
            "AAPL    2.456415e-04  0.000037  4.926328e-07 -0.000031  0.000002 -0.000007\n",
            "BA      3.664455e-05  0.000328  4.797165e-05  0.000043  0.000029  0.000027\n",
            "JNJ     4.926328e-07  0.000048  9.497306e-05  0.000039  0.000027  0.000009\n",
            "JPM    -3.125948e-05  0.000043  3.926331e-05  0.000155  0.000019  0.000043\n",
            "PG      2.409910e-06  0.000029  2.729974e-05  0.000019  0.000047  0.000012\n",
            "XOM    -6.613172e-06  0.000027  8.981707e-06  0.000043  0.000012  0.000124\n"
          ]
        }
      ]
    },
    {
      "cell_type": "markdown",
      "source": [
        "###METHOD-1 IMPLEMTATION"
      ],
      "metadata": {
        "id": "WVVOwODS_hBS"
      }
    },
    {
      "cell_type": "code",
      "source": [
        "w = np.ones(6)/6   #initial guess for weight matrix\n",
        "C = np.array(C)\n",
        "\n",
        "def obj_function(w, C):\n",
        "    P = C @ w\n",
        "    MCR = P/np.sqrt(w.T @ C @ w)\n",
        "    f = 0.0 # obj function value initialization\n",
        "\n",
        "    for i in range(len(w)):\n",
        "        for j in range(len(w)):\n",
        "            f += (w[i] * MCR[i] - w[j] * MCR[j]) ** 2 # summation of sq diff of all possible risk contri comb.\n",
        "    return f\n",
        "\n",
        "def objective(w):\n",
        "    return obj_function(w, C)\n",
        "\n",
        "# Constraints\n",
        "constraints = (\n",
        "    {'type': 'eq', 'fun': lambda w: np.sum(w) - 1},  # Equality constraint: sum(w) = 1\n",
        "    {'type': 'ineq', 'fun': lambda w: w}             # Inequality constraint: w >= 0\n",
        ")\n",
        "\n",
        "# Bounds\n",
        "bounds = [(0, 1) for _ in range(C.shape[1])]\n",
        "\n",
        "# Optimize\n",
        "result = minimize(objective, w, method='SLSQP', constraints=constraints, bounds=bounds, options={'disp': True})\n",
        "\n",
        "# Optimal weights\n",
        "optimal_weights = result.x\n",
        "\n",
        "print(\"Optimal weights:\", optimal_weights)\n",
        "print(\"Objective function value at optimal weights:\", result.fun)\n",
        "print(\"Success:\", result.success)\n",
        "print(\"Message:\", result.message)"
      ],
      "metadata": {
        "colab": {
          "base_uri": "https://localhost:8080/"
        },
        "id": "3vI8PTiygAce",
        "outputId": "a5e03bd3-3a2f-4568-9c63-7ec890f15ba3"
      },
      "execution_count": null,
      "outputs": [
        {
          "output_type": "stream",
          "name": "stdout",
          "text": [
            "Optimization terminated successfully    (Exit mode 0)\n",
            "            Current function value: 1.7285584312807677e-05\n",
            "            Iterations: 1\n",
            "            Function evaluations: 7\n",
            "            Gradient evaluations: 1\n",
            "Optimal weights: [0.16666667 0.16666667 0.16666667 0.16666667 0.16666667 0.16666667]\n",
            "Objective function value at optimal weights: 1.7285584312807677e-05\n",
            "Success: True\n",
            "Message: Optimization terminated successfully\n"
          ]
        }
      ]
    },
    {
      "cell_type": "markdown",
      "source": [
        "###METHOD-2 IMPLEMNTATION"
      ],
      "metadata": {
        "id": "ozy4M1ba-gaH"
      }
    },
    {
      "cell_type": "code",
      "source": [
        "w = np.ones(6)/6   #initial guess for weight matrix\n",
        "C = np.array(C)\n",
        "\n",
        "def obj_function(w, C):\n",
        "    return np.sqrt(w.T @ C @ w)\n",
        "\n",
        "\n",
        "def objective(w):\n",
        "    return obj_function(w, C)\n",
        "\n",
        "# Trying for different values of c\n",
        "constants = [4, 3, 2, 1]\n",
        "best_portfolio = {\n",
        "    \"weights\": None,\n",
        "    \"return\": None,\n",
        "    \"variance\": float('inf'),  # Initialize with infinity\n",
        "    \"constant\": None\n",
        "}\n",
        "\n",
        "# Calculating expected returns and covariance matrix\n",
        "expected_returns = returns.mean()\n",
        "cov_matrix = returns.cov()\n",
        "\n",
        "for c in constants:\n",
        "    print(f\"Testing with constant: {c}\")\n",
        "    constraints = (\n",
        "        {'type': 'ineq', 'fun': lambda w: np.sum(np.log(w)) + c},  # Inequality constraint\n",
        "        {'type': 'ineq', 'fun': lambda w: w}  # Non-negativity constraint\n",
        "    )\n",
        "\n",
        "    # Bounds\n",
        "    bounds = [(0, 1) for _ in range(cov_matrix.shape[0])]\n",
        "\n",
        "    # Optimization\n",
        "    result = minimize(objective, w, method='SLSQP', constraints=constraints, bounds=bounds, options={'disp': False})\n",
        "\n",
        "    if result.success:\n",
        "        # Optimal weights\n",
        "        optimal_weights = result.x\n",
        "        normalized_weights = optimal_weights / np.sum(optimal_weights)\n",
        "\n",
        "        # Calculating portfolio expected return and variance\n",
        "        portfolio_return = np.dot(normalized_weights, expected_returns)\n",
        "        portfolio_variance = np.dot(normalized_weights.T, np.dot(cov_matrix, normalized_weights))\n",
        "\n",
        "        # Checking if this portfolio has the lowest variance\n",
        "        if portfolio_variance < best_portfolio[\"variance\"]:\n",
        "            best_portfolio[\"weights\"] = normalized_weights\n",
        "            best_portfolio[\"return\"] = portfolio_return\n",
        "            best_portfolio[\"variance\"] = portfolio_variance\n",
        "            best_portfolio[\"constant\"] = c\n",
        "\n",
        "        # Printing results for each constant\n",
        "        print(f\"Constant {c}:\")\n",
        "        print(\"Normalized weights:\", normalized_weights)\n",
        "        print(\"Expected Portfolio Return:\", portfolio_return)\n",
        "        print(\"Portfolio Variance:\", portfolio_variance)\n",
        "        print(\"Success:\", result.success)\n",
        "        print(\"Message:\", result.message)\n",
        "        print()"
      ],
      "metadata": {
        "colab": {
          "base_uri": "https://localhost:8080/"
        },
        "id": "cIE8F1gILWvO",
        "outputId": "97e0b5d3-8b3d-46e4-c165-39287e8d7649"
      },
      "execution_count": null,
      "outputs": [
        {
          "output_type": "stream",
          "name": "stdout",
          "text": [
            "Testing with constant: 4\n",
            "Constant 4:\n",
            "Normalized weights: [0.16053918 0.0953542  0.17250124 0.1476746  0.24753082 0.17639996]\n",
            "Expected Portfolio Return: 0.0005848313595151965\n",
            "Portfolio Variance: 3.6359028433233126e-05\n",
            "Success: True\n",
            "Message: Optimization terminated successfully\n",
            "\n",
            "Testing with constant: 3\n",
            "Constant 3:\n",
            "Normalized weights: [0.16055013 0.09535677 0.17252416 0.14766989 0.24749937 0.17639968]\n",
            "Expected Portfolio Return: 0.0005848075116653912\n",
            "Portfolio Variance: 3.635985120951649e-05\n",
            "Success: True\n",
            "Message: Optimization terminated successfully\n",
            "\n",
            "Testing with constant: 2\n",
            "Constant 2:\n",
            "Normalized weights: [0.16368544 0.09811225 0.17902614 0.15220791 0.22572829 0.18123997]\n",
            "Expected Portfolio Return: 0.000586372329861719\n",
            "Portfolio Variance: 3.706972082108579e-05\n",
            "Success: True\n",
            "Message: Optimization terminated successfully\n",
            "\n",
            "Testing with constant: 1\n",
            "Constant 1:\n",
            "Normalized weights: [0.1699575  0.10234265 0.18764302 0.15831083 0.19267741 0.18906858]\n",
            "Expected Portfolio Return: 0.0005908049442930505\n",
            "Portfolio Variance: 3.825405738375404e-05\n",
            "Success: True\n",
            "Message: Optimization terminated successfully\n",
            "\n"
          ]
        }
      ]
    },
    {
      "cell_type": "markdown",
      "source": [
        "##Best portfolio out of all the values of c"
      ],
      "metadata": {
        "id": "z1lwp8DTDR2f"
      }
    },
    {
      "cell_type": "code",
      "source": [
        "# The best portfolio is the one with lowest variance out of all\n",
        "print(\"Best Portfolio:\")\n",
        "print(\"Constant:\", best_portfolio[\"constant\"])\n",
        "print(\"Weights:\", best_portfolio[\"weights\"])\n",
        "print(\"Expected Return:\", best_portfolio[\"return\"])\n",
        "print(\"Variance:\", best_portfolio[\"variance\"])"
      ],
      "metadata": {
        "id": "lGpdMw5Qimen",
        "colab": {
          "base_uri": "https://localhost:8080/"
        },
        "outputId": "3266b363-fc8a-493d-e325-1b86dceba894"
      },
      "execution_count": null,
      "outputs": [
        {
          "output_type": "stream",
          "name": "stdout",
          "text": [
            "Best Portfolio:\n",
            "Constant: 4\n",
            "Weights: [0.16053918 0.0953542  0.17250124 0.1476746  0.24753082 0.17639996]\n",
            "Expected Return: 0.0005848313595151965\n",
            "Variance: 3.6359028433233126e-05\n"
          ]
        }
      ]
    },
    {
      "cell_type": "markdown",
      "source": [
        "## Fetching Market Capitalization Data"
      ],
      "metadata": {
        "id": "pfUi_hQiDNg2"
      }
    },
    {
      "cell_type": "code",
      "source": [
        "# Fetching market capitalization data for the selected stocks\n",
        "market_caps = {}\n",
        "\n",
        "for stock in stocks:\n",
        "    ticker = yf.Ticker(stock)\n",
        "    market_caps[stock] = ticker.info['marketCap']\n",
        "\n",
        "market_caps = np.array([market_caps[stock] for stock in stocks])\n",
        "\n",
        "print('Market Capitalizations (in USD):', market_caps)\n"
      ],
      "metadata": {
        "colab": {
          "base_uri": "https://localhost:8080/"
        },
        "id": "L9rxQ2bNCADv",
        "outputId": "cb4d9d6b-6627-4ee9-b75c-aee824d19d00"
      },
      "execution_count": null,
      "outputs": [
        {
          "output_type": "stream",
          "name": "stdout",
          "text": [
            "Market Capitalizations (in USD): [3499701567488  352843366400  591793750016  391500038144  113727971328\n",
            "  503904534528]\n"
          ]
        }
      ]
    },
    {
      "cell_type": "markdown",
      "source": [
        "##Comparison with Marekt Cap Weighted Portfolio"
      ],
      "metadata": {
        "id": "WIVPq68VD-7E"
      }
    },
    {
      "cell_type": "code",
      "source": [
        "# Market Cap Weighted Portfolio\n",
        "market_cap_weights = market_caps / market_caps.sum()\n",
        "market_cap_portfolio_variance = np.dot(market_cap_weights.T, np.dot(cov_matrix, market_cap_weights))"
      ],
      "metadata": {
        "id": "dOMTH4D1DiFl"
      },
      "execution_count": null,
      "outputs": []
    },
    {
      "cell_type": "code",
      "source": [
        "# Final Comparison\n",
        "print('Optimized Portfolio Variance:', best_portfolio[\"variance\"])\n",
        "print('Market Cap Weighted Portfolio Variance:', market_cap_portfolio_variance)"
      ],
      "metadata": {
        "colab": {
          "base_uri": "https://localhost:8080/"
        },
        "id": "i0RDxqjAEPtT",
        "outputId": "5b1f2c6f-de95-4ad4-9b8d-ad7f38ac2618"
      },
      "execution_count": null,
      "outputs": [
        {
          "output_type": "stream",
          "name": "stdout",
          "text": [
            "Optimized Portfolio Variance: 3.6359028433233126e-05\n",
            "Market Cap Weighted Portfolio Variance: 0.00010809570207153585\n"
          ]
        }
      ]
    },
    {
      "cell_type": "markdown",
      "source": [
        "##Conclusions:"
      ],
      "metadata": {
        "id": "ku7ECsKQ_ziO"
      }
    },
    {
      "cell_type": "markdown",
      "source": [
        "\n",
        "\n",
        "*   The optimized portfolio variance (3.6359028433233126e-05) is significantly lower than the market cap weighted portfolio variance (0.00010809570207153585).\n",
        "This indicates that the optimization method successfully minimized the portfolio variance, leading to a more efficient portfolio in terms of risk.\n",
        "\n",
        "*   The significantly lower portfolio variance achieved through optimization demonstrates the effectiveness of using mathematical optimization techniques to construct a low-risk portfolio. In contrast, the market cap weighted portfolio, while simpler to implement, does not account for the covariance structure between assets and thus results in higher risk. This analysis underscores the value of optimization in portfolio management, particularly for investors prioritizing risk minimization.\n",
        "\n"
      ],
      "metadata": {
        "id": "kIC6Ntmx_-5p"
      }
    }
  ]
}